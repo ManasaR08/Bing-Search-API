{
 "cells": [
  {
   "cell_type": "code",
   "execution_count": 1,
   "metadata": {},
   "outputs": [
    {
     "name": "stdout",
     "output_type": "stream",
     "text": [
      "Subscription key : 836112d6183a494d950d44183792d124\n"
     ]
    }
   ],
   "source": [
    "key = input(\"Subscription key : \")"
   ]
  },
  {
   "cell_type": "code",
   "execution_count": 2,
   "metadata": {},
   "outputs": [],
   "source": [
    "import os\n",
    "\n",
    "os.environ['key'] = key"
   ]
  },
  {
   "cell_type": "code",
   "execution_count": 3,
   "metadata": {},
   "outputs": [],
   "source": [
    "import json\n",
    "import os\n",
    "from pprint import pprint\n",
    "import requests"
   ]
  },
  {
   "cell_type": "code",
   "execution_count": 4,
   "metadata": {},
   "outputs": [],
   "source": [
    "query = \"Microsoft Cognitive Services\""
   ]
  },
  {
   "cell_type": "code",
   "execution_count": 5,
   "metadata": {},
   "outputs": [],
   "source": [
    "headers = {\n",
    "    #Request headers\n",
    "    'Ocp-Apim-Subscription-Key':os.environ['key']\n",
    "}"
   ]
  },
  {
   "cell_type": "code",
   "execution_count": 6,
   "metadata": {},
   "outputs": [],
   "source": [
    "import http.client,urllib.request,urllib.parse,urllib.error,base64\n",
    "import json\n",
    "\n",
    "def search(query,offset=0,count=10):\n",
    "    params = urllib.parse.urlencode({\n",
    "        #Request parameters\n",
    "        'q':query,\n",
    "        'count':count,\n",
    "        'offset':offset,\n",
    "        'mkt':'en-us',\n",
    "        'safesearch':'Moderate'\n",
    "    })\n",
    "    \n",
    "    try:\n",
    "        conn = http.client.HTTPSConnection('api.cognitive.microsoft.com')\n",
    "        conn.request('GET',\"/bing/v7.0/search?%s\" %params,\"{body}\",headers)\n",
    "        response = conn.getresponse()\n",
    "        data=response.read()\n",
    "        conn.close()\n",
    "    except Exception as e:\n",
    "        print(\"[Errno {0}] {1}\".format(e.errno,e.strerror))\n",
    "    return json.loads(data)    "
   ]
  },
  {
   "cell_type": "code",
   "execution_count": 7,
   "metadata": {},
   "outputs": [
    {
     "name": "stdout",
     "output_type": "stream",
     "text": [
      "_type           : SearchResponse\n",
      "queryContext    : {'originalQuery': 'Microsoft Cognitive Services'}\n",
      "webPages        : {'webSearchUrl': 'https://www.bing.com/search?q=Microsoft+Cognitive+Services', 'totalEstimatedMatches': 7460000, 'value': [{'id': 'https://api.cognitive.microsoft.com/api/v7/#WebPages.0', 'name': 'Microsoft Cognitive Services', 'url': 'https://www.microsoft.com/cognitive-services', 'isFamilyFriendly': True, 'displayUrl': 'https://www.microsoft.com/cognitive-services', 'snippet': \"Knock down barriers between you and your ideas. Enable natural and contextual interaction with tools that augment users' experiences via the power of machine-based AI. Plug them in and bring your ideas to life.\", 'language': '', 'isNavigational': True}, {'id': 'https://api.cognitive.microsoft.com/api/v7/#WebPages.1', 'name': 'Cognitive Services—APIs for AI Developers | Microsoft Azure', 'url': 'https://azure.microsoft.com/en-us/services/cognitive-services/', 'isFamilyFriendly': True, 'displayUrl': 'https://azure.microsoft.com/en-us/services/cognitive-services', 'snippet': 'Cognitive Services bring AI within reach of every developer—without requiring machine-learning expertise. All it takes is an API call to embed the ability to see, hear, speak, search, understand, and accelerate decision-making into your apps.', 'dateLastCrawled': '2020-05-15T17:47:00.0000000Z', 'language': 'en', 'isNavigational': False}, {'id': 'https://api.cognitive.microsoft.com/api/v7/#WebPages.2', 'name': 'Cognitive Services—APIs for AI Developers | Microsoft Azure', 'url': 'https://azure.microsoft.com/en-in/services/cognitive-services/', 'isFamilyFriendly': True, 'displayUrl': 'https://azure.microsoft.com/en-in/services/cognitive-services', 'snippet': 'Cognitive Services bring AI within reach of every developer—without requiring machine-learning expertise. All it takes is an API call to embed the ability to see, hear, speak, search, understand and accelerate decision-making into your apps. This is a modal window. Beginning of dialog window. Escape will cancel and close the window.', 'dateLastCrawled': '2020-05-14T17:21:00.0000000Z', 'language': 'en', 'isNavigational': False}, {'id': 'https://api.cognitive.microsoft.com/api/v7/#WebPages.3', 'name': 'What are Azure Cognitive Services? - Azure Cognitive ...', 'url': 'https://docs.microsoft.com/en-us/azure/cognitive-services/Welcome', 'isFamilyFriendly': True, 'displayUrl': 'https://docs.microsoft.com/en-us/azure/cognitive-services/Welcome', 'snippet': 'Azure Cognitive Services are APIs, SDKs, and services available to help developers build intelligent applications without having direct AI or data science skills or knowledge. Azure Cognitive Services enable developers to easily add cognitive features into their applications. The goal of Azure Cognitive Services is to help developers create ...', 'dateLastCrawled': '2020-05-15T14:20:00.0000000Z', 'searchTags': [{'name': 'search.ms_docsetname', 'content': '\"azure-documents\"; azure; documents'}, {'name': 'search.ms_product', 'content': '\"Azure\"; azure'}, {'name': 'search.ms_sitename', 'content': '\"Docs\"; docs'}], 'language': 'en', 'isNavigational': False}, {'id': 'https://api.cognitive.microsoft.com/api/v7/#WebPages.4', 'name': 'Cognitive Service Try experience | Microsoft Azure', 'url': 'https://azure.microsoft.com/en-us/try/cognitive-services/', 'isFamilyFriendly': True, 'displayUrl': 'https://azure.microsoft.com/en-us/try/cognitive-services', 'snippet': 'Cognitive Services let you build intelligent apps with powerful algorithms using just a few lines of code. Try the Cognitive Services APIs for free in minutes. Try Cognitive Services for free. For long-term use or an increased quota sign-up for a free Azure account. Explore Cognitive Services: Select your API. Start using the API. Computer Vision.', 'dateLastCrawled': '2020-05-15T12:20:00.0000000Z', 'language': 'en', 'isNavigational': False}]}\n",
      "relatedSearches : {'id': 'https://api.cognitive.microsoft.com/api/v7/#RelatedSearches', 'value': [{'text': 'microsoft cognitive services ocr', 'displayText': 'microsoft cognitive services ocr', 'webSearchUrl': 'https://www.bing.com/search?q=microsoft+cognitive+services+ocr'}, {'text': 'microsoft cognitive services search api', 'displayText': 'microsoft cognitive services search api', 'webSearchUrl': 'https://www.bing.com/search?q=microsoft+cognitive+services+search+api'}, {'text': 'microsoft cognitive services free', 'displayText': 'microsoft cognitive services free', 'webSearchUrl': 'https://www.bing.com/search?q=microsoft+cognitive+services+free'}, {'text': 'microsoft cognitive services labs', 'displayText': 'microsoft cognitive services labs', 'webSearchUrl': 'https://www.bing.com/search?q=microsoft+cognitive+services+labs'}, {'text': 'microsoft cognitive services speech sdk', 'displayText': 'microsoft cognitive services speech sdk', 'webSearchUrl': 'https://www.bing.com/search?q=microsoft+cognitive+services+speech+sdk'}, {'text': 'microsoft cognitive services text analytics', 'displayText': 'microsoft cognitive services text analytics', 'webSearchUrl': 'https://www.bing.com/search?q=microsoft+cognitive+services+text+analytics'}, {'text': 'microsoft cognitive services tutorial', 'displayText': 'microsoft cognitive services tutorial', 'webSearchUrl': 'https://www.bing.com/search?q=microsoft+cognitive+services+tutorial'}, {'text': 'azure cognitive services', 'displayText': 'azure cognitive services', 'webSearchUrl': 'https://www.bing.com/search?q=azure+cognitive+services'}]}\n",
      "videos          : {'id': 'https://api.cognitive.microsoft.com/api/v7/#Videos', 'readLink': 'https://api.cognitive.microsoft.com/api/v7/videos/search?q=Microsoft+Cognitive+Services', 'webSearchUrl': 'https://www.bing.com/videos/search?q=Microsoft+Cognitive+Services', 'isFamilyFriendly': True, 'value': [{'webSearchUrl': 'https://www.bing.com/videos/search?q=Microsoft%20Cognitive%20Services&view=detail&mid=5EF9FA8FED3B125F5ED75EF9FA8FED3B125F5ED7', 'name': 'Container support in Azure Cognitive Services', 'description': 'Learn how Docker containers can get Cognitive Services closer to your data.', 'thumbnailUrl': 'https://tse3.mm.bing.net/th?id=OVP.zM7qv8d50XJwFs-MSziiCwEsCo&pid=Api', 'datePublished': '2020-04-01T07:00:00.0000000', 'publisher': [{'name': 'Microsoft'}], 'contentUrl': 'https://docs.microsoft.com/en-us/azure/cognitive-services/cognitive-services-container-support', 'hostPageUrl': 'https://docs.microsoft.com/en-us/azure/cognitive-services/cognitive-services-container-support', 'encodingFormat': 'mp4', 'hostPageDisplayUrl': 'https://docs.microsoft.com/en-us/azure/cognitive-services/cognitive-services-container-support', 'width': 640, 'height': 360, 'duration': 'PT2M9S', 'motionThumbnailUrl': 'https://tse3.mm.bing.net/th?id=OM.115fEjvtj_r5Xg_1589277282&pid=Api', 'embedHtml': '<iframe width=\"560\" height=\"315\" src=\"https://www.youtube.com/embed/hdfbn4Q8jbo\" frameborder= \"0\" allowfullscreen></iframe>', 'allowHttpsEmbed': True, 'thumbnail': {'width': 160, 'height': 89}, 'allowMobileEmbed': True, 'isSuperfresh': False}, {'webSearchUrl': 'https://www.bing.com/videos/search?q=Microsoft%20Cognitive%20Services&view=detail&mid=AFB87F3E01DB97C7D6EFAFB87F3E01DB97C7D6EF', 'name': 'Microsoft Cognitive Service : Anomaly Detection', 'description': 'In this short video an introduction to Microsoft Anomaly detection has been presented. in the next one how to use it in Power BI will be explained.', 'thumbnailUrl': 'https://tse2.mm.bing.net/th?id=OVP.DmjkFAU4HwTXY4pDlI1bUQHgFo&pid=Api', 'datePublished': '2019-12-02T22:42:58.0000000', 'publisher': [{'name': 'YouTube'}], 'isAccessibleForFree': True, 'contentUrl': 'https://www.youtube.com/watch?v=7ZOtZDbn6gM', 'hostPageUrl': 'https://www.youtube.com/watch?v=7ZOtZDbn6gM', 'encodingFormat': 'mp4', 'hostPageDisplayUrl': 'https://www.youtube.com/watch?v=7ZOtZDbn6gM', 'width': 1280, 'height': 720, 'duration': 'PT11M44S', 'motionThumbnailUrl': 'https://tse2.mm.bing.net/th?id=OM1.79bHl9sBPn-4rw&pid=Api', 'embedHtml': '<iframe width=\"1280\" height=\"720\" src=\"http://www.youtube.com/embed/7ZOtZDbn6gM?autoplay=1\" frameborder=\"0\" allowfullscreen></iframe>', 'allowHttpsEmbed': True, 'viewCount': 925, 'thumbnail': {'width': 160, 'height': 120}, 'allowMobileEmbed': True, 'isSuperfresh': False}, {'webSearchUrl': 'https://www.bing.com/videos/search?q=Microsoft%20Cognitive%20Services&view=detail&mid=37239BC8208D210CED2837239BC8208D210CED28', 'name': 'Real-time Face Recognition With Microsoft Cognitive Services | Jernej Kavka (JK)', 'description': \"This session is all about Microsoft Face API in practice! || Subscribe for more content from SSW TV || || Press like and leave a comment below to let us know how we're doing || Twitter ↴ https://twitter.com/ssw_tv Facebook ↴ https://www.facebook.com/SSW.page/?fref=ts --- Description --- JK, the man behind www.sswSophie.com, will cover what ...\", 'thumbnailUrl': 'https://tse2.mm.bing.net/th?id=OVP.FeCRLLix9RoNqOLUOL8jAQEsDh&pid=Api', 'datePublished': '2019-01-17T04:21:26.0000000', 'publisher': [{'name': 'YouTube'}], 'isAccessibleForFree': True, 'contentUrl': 'https://www.youtube.com/watch?v=KCSyRO0KotA', 'hostPageUrl': 'https://www.youtube.com/watch?v=KCSyRO0KotA', 'encodingFormat': 'mp4', 'hostPageDisplayUrl': 'https://www.youtube.com/watch?v=KCSyRO0KotA', 'width': 1280, 'height': 720, 'duration': 'PT44M8S', 'motionThumbnailUrl': 'https://tse2.mm.bing.net/th?id=OM.KO0MIY0gyJsjNw_1586897670&pid=Api', 'embedHtml': '<iframe width=\"1280\" height=\"720\" src=\"http://www.youtube.com/embed/KCSyRO0KotA?autoplay=1\" frameborder=\"0\" allowfullscreen></iframe>', 'allowHttpsEmbed': True, 'viewCount': 26721, 'thumbnail': {'width': 160, 'height': 120}, 'allowMobileEmbed': True, 'isSuperfresh': False}, {'webSearchUrl': 'https://www.bing.com/videos/search?q=Microsoft%20Cognitive%20Services&view=detail&mid=78176445D331A44DCFF478176445D331A44DCFF4', 'name': 'Call Centre Analytics using Microsoft Azure Cognitive Services', 'description': \"Meghana Madhusudhan's talk at Metro Toronto .NET User Group meetup event Global AI Bootcamp Toronto on Dec 14, 2019 at Microsoft Canada HQ https://www.meetup.com/metrotorontoug/events/260489986/ Watch all talks at GlobalAIBootcamp 2019 in Toronto here https://www.youtube.com/playlist?list=PLvZNswYZlTAM3IrefyKuY_oyjCY1UOpB7\", 'thumbnailUrl': 'https://tse2.mm.bing.net/th?id=OVP.FqRLirwXHUoElVhW-Ho_ZgHgFo&pid=Api', 'datePublished': '2019-12-23T21:57:28.0000000', 'publisher': [{'name': 'YouTube'}], 'isAccessibleForFree': True, 'contentUrl': 'https://www.youtube.com/watch?v=N25frVe5Gds', 'hostPageUrl': 'https://www.youtube.com/watch?v=N25frVe5Gds', 'encodingFormat': '', 'hostPageDisplayUrl': 'https://www.youtube.com/watch?v=N25frVe5Gds', 'width': 480, 'height': 360, 'duration': 'PT43M33S', 'embedHtml': '<iframe width=\"1280\" height=\"720\" src=\"http://www.youtube.com/embed/N25frVe5Gds?autoplay=1\" frameborder=\"0\" allowfullscreen></iframe>', 'allowHttpsEmbed': True, 'viewCount': 13, 'thumbnail': {'width': 160, 'height': 120}, 'allowMobileEmbed': True, 'isSuperfresh': False}, {'webSearchUrl': 'https://www.bing.com/videos/search?q=Microsoft%20Cognitive%20Services&view=detail&mid=DE95BF72DFF1C30D2332DE95BF72DFF1C30D2332', 'name': \"Learn what's new in Azure Cognitive Services | Azure Friday\", 'description': \"Christina Lee joins Scott Hanselman to show what's new in Azure Cognitive Services. Cognitive Services bring AI within reach of every developer—without requiring machine-learning expertise. All it takes is an API call to embed the ability to see, hear, speak, search, understand, and accelerate decision-making into your apps. 2:00 - Demo Azure ...\", 'thumbnailUrl': 'https://tse4.mm.bing.net/th?id=OVP.A4gX6fMwRIIodlrg426nqgEsDh&pid=Api', 'datePublished': '2019-11-15T17:30:01.0000000', 'publisher': [{'name': 'YouTube'}], 'isAccessibleForFree': True, 'contentUrl': 'https://www.youtube.com/watch?v=JvaYbQab3wU', 'hostPageUrl': 'https://www.youtube.com/watch?v=JvaYbQab3wU', 'encodingFormat': 'mp4', 'hostPageDisplayUrl': 'https://www.youtube.com/watch?v=JvaYbQab3wU', 'width': 1280, 'height': 720, 'duration': 'PT9M13S', 'motionThumbnailUrl': 'https://tse4.mm.bing.net/th?id=OM.MiMNw_Hfcr-V3g_1585256688&pid=Api', 'embedHtml': '<iframe width=\"1280\" height=\"720\" src=\"http://www.youtube.com/embed/JvaYbQab3wU?autoplay=1\" frameborder=\"0\" allowfullscreen></iframe>', 'allowHttpsEmbed': True, 'viewCount': 5657, 'thumbnail': {'width': 160, 'height': 120}, 'allowMobileEmbed': True, 'isSuperfresh': False}, {'webSearchUrl': 'https://www.bing.com/videos/search?q=Microsoft%20Cognitive%20Services&view=detail&mid=CFDF20BAA2777F7C5EF3CFDF20BAA2777F7C5EF3', 'name': 'Microsoft Azure Cognitive Services: Bing Image Search API Course Preview', 'description': 'View full course here: https://www.pluralsight.com/courses/microsoft-azure-cognitive-services-bing-image-search-api Join Pluralsight author Eduardo Freitas as he walks you through a preview of his \"Microsoft Azure Cognitive Services: Bing Image Search API\" course found only on Pluralsight.com. Build your technology skills with Eduardo’s help ...', 'thumbnailUrl': 'https://tse3.mm.bing.net/th?id=OVP.lgNxLZWVrAM4W7Mr9b7fwgEsDh&pid=Api', 'datePublished': '2019-12-03T21:09:25.0000000', 'publisher': [{'name': 'YouTube'}], 'isAccessibleForFree': True, 'contentUrl': 'https://www.youtube.com/watch?v=lGdJCZ7skok', 'hostPageUrl': 'https://www.youtube.com/watch?v=lGdJCZ7skok', 'encodingFormat': 'mp4', 'hostPageDisplayUrl': 'https://www.youtube.com/watch?v=lGdJCZ7skok', 'width': 1280, 'height': 720, 'duration': 'PT1M40S', 'motionThumbnailUrl': 'https://tse3.mm.bing.net/th?id=OM.8158f3eiuiDfzw_1582410040&pid=Api', 'embedHtml': '<iframe width=\"1280\" height=\"720\" src=\"http://www.youtube.com/embed/lGdJCZ7skok?autoplay=1\" frameborder=\"0\" allowfullscreen></iframe>', 'allowHttpsEmbed': True, 'viewCount': 110, 'thumbnail': {'width': 160, 'height': 120}, 'allowMobileEmbed': True, 'isSuperfresh': False}, {'webSearchUrl': 'https://www.bing.com/videos/search?q=Microsoft%20Cognitive%20Services&view=detail&mid=25F969D3C8686562CADF25F969D3C8686562CADF', 'name': 'Microsoft Azure Cognitive Services: Anomaly Detector Course Preview', 'description': 'Stay home, skill up! Get FREE access to 7,000+ Pluralsight courses during the month of April!: https://www.pluralsight.com/offer/2020/free-april-month Times are tough right now. To help you be productive, make progress toward your goals or build skills toward a new career, we’re making all 7,000+ expert-led video courses completely free for ...', 'thumbnailUrl': 'https://tse2.mm.bing.net/th?id=OVP.mAZQkvEb-hGQflpkfZmDkQHgFo&pid=Api', 'datePublished': '2020-03-19T21:07:02.0000000', 'publisher': [{'name': 'YouTube'}], 'isAccessibleForFree': True, 'contentUrl': 'https://www.youtube.com/watch?v=97wymyQ7e9Y', 'hostPageUrl': 'https://www.youtube.com/watch?v=97wymyQ7e9Y', 'encodingFormat': '', 'hostPageDisplayUrl': 'https://www.youtube.com/watch?v=97wymyQ7e9Y', 'width': 1280, 'height': 720, 'duration': 'PT1M14S', 'embedHtml': '<iframe width=\"1280\" height=\"720\" src=\"http://www.youtube.com/embed/97wymyQ7e9Y?autoplay=1\" frameborder=\"0\" allowfullscreen></iframe>', 'allowHttpsEmbed': True, 'viewCount': 61, 'thumbnail': {'width': 160, 'height': 120}, 'allowMobileEmbed': True, 'isSuperfresh': False}, {'webSearchUrl': 'https://www.bing.com/videos/search?q=Microsoft%20Cognitive%20Services&view=detail&mid=230D105355C2C370320D230D105355C2C370320D', 'name': 'Azure Skills: Microsoft Azure Cognitive Services: Bing Spell Check API Course Preview', 'description': 'View full course here: https://www.pluralsight.com/courses/microsoft-azure-cognitive-services-bing-spell-check-api Join Pluralsight author James Millar as he walks you through a preview of his \"Microsoft Azure Cognitive Services: Bing Spell Check API\" course found only on Pluralsight.com. Build your technology skills with James’s help by ...', 'thumbnailUrl': 'https://tse2.mm.bing.net/th?id=OVP.kXOl6K2qgcbY4_VGSSRfKgEsDh&pid=Api', 'datePublished': '2019-08-20T19:52:04.0000000', 'publisher': [{'name': 'YouTube'}], 'isAccessibleForFree': True, 'contentUrl': 'https://www.youtube.com/watch?v=1fK_muXBU6k', 'hostPageUrl': 'https://www.youtube.com/watch?v=1fK_muXBU6k', 'encodingFormat': 'mp4', 'hostPageDisplayUrl': 'https://www.youtube.com/watch?v=1fK_muXBU6k', 'width': 1280, 'height': 720, 'duration': 'PT1M44S', 'motionThumbnailUrl': 'https://tse2.mm.bing.net/th?id=OM.DTJww8JVUxANIw_1587541466&pid=Api', 'embedHtml': '<iframe width=\"1280\" height=\"720\" src=\"http://www.youtube.com/embed/1fK_muXBU6k?autoplay=1\" frameborder=\"0\" allowfullscreen></iframe>', 'allowHttpsEmbed': True, 'viewCount': 212, 'thumbnail': {'width': 160, 'height': 120}, 'allowMobileEmbed': True, 'isSuperfresh': False}, {'webSearchUrl': 'https://www.bing.com/videos/search?q=Microsoft%20Cognitive%20Services&view=detail&mid=FDF2703CC2C76C8F742DFDF2703CC2C76C8F742D', 'name': 'Microsoft Bing Skills: Microsoft Cognitive Services: Bing News Search Course Preview', 'description': 'View full course here: https://www.pluralsight.com/courses/microsoft-cognitive-services-bing-news-search Join Pluralsight author Matthew Soucoup as he walks you through a preview of his \"Microsoft Cognitive Services: Bing News Search\" course found only on Pluralsight.com. Build your technology skills with Matthew’s help by learning about the ...', 'thumbnailUrl': 'https://tse4.mm.bing.net/th?id=OVP._YUVkDq3_jRfOEX8mUqzfgEsDh&pid=Api', 'datePublished': '2019-10-29T20:52:12.0000000', 'publisher': [{'name': 'YouTube'}], 'isAccessibleForFree': True, 'contentUrl': 'https://www.youtube.com/watch?v=quIXoS63H3M', 'hostPageUrl': 'https://www.youtube.com/watch?v=quIXoS63H3M', 'encodingFormat': 'mp4', 'hostPageDisplayUrl': 'https://www.youtube.com/watch?v=quIXoS63H3M', 'width': 1280, 'height': 720, 'duration': 'PT1M52S', 'motionThumbnailUrl': 'https://tse4.mm.bing.net/th?id=OM.LXSPbMfCPHDy_Q_1585235612&pid=Api', 'embedHtml': '<iframe width=\"1280\" height=\"720\" src=\"http://www.youtube.com/embed/quIXoS63H3M?autoplay=1\" frameborder=\"0\" allowfullscreen></iframe>', 'allowHttpsEmbed': True, 'viewCount': 60, 'thumbnail': {'width': 160, 'height': 120}, 'allowMobileEmbed': True, 'isSuperfresh': False}, {'webSearchUrl': 'https://www.bing.com/videos/search?q=Microsoft%20Cognitive%20Services&view=detail&mid=6B78742D56D1FCC6694B6B78742D56D1FCC6694B', 'name': 'Microsoft AI - Cognitive Services: Seeing AI demo', 'description': \"Intimidated by AI? Don't be since Microsoft makes it easy to add AI with API calls. Seeing AI App https://www.microsoft.com/en-us/seeing-ai Microsoft Cognitive Services Overview https://azure.microsoft.com/en-us/services/cognitive-services/\", 'thumbnailUrl': 'https://tse4.mm.bing.net/th?id=OVP.ZlWVxJ9gyoMjyJ9dWXMWowEsDh&pid=Api', 'datePublished': '2018-07-19T22:16:05.0000000', 'publisher': [{'name': 'YouTube'}], 'isAccessibleForFree': True, 'contentUrl': 'https://www.youtube.com/watch?v=Bs_wieoxGoA', 'hostPageUrl': 'https://www.youtube.com/watch?v=Bs_wieoxGoA', 'encodingFormat': 'mp4', 'hostPageDisplayUrl': 'https://www.youtube.com/watch?v=Bs_wieoxGoA', 'width': 1280, 'height': 720, 'duration': 'PT4M45S', 'motionThumbnailUrl': 'https://tse4.mm.bing.net/th?id=OM1.S2nG_NFWLXR4aw_1584250855&pid=Api', 'embedHtml': '<iframe width=\"1280\" height=\"720\" src=\"http://www.youtube.com/embed/Bs_wieoxGoA?autoplay=1\" frameborder=\"0\" allowfullscreen></iframe>', 'allowHttpsEmbed': True, 'viewCount': 3660, 'thumbnail': {'width': 160, 'height': 120}, 'allowMobileEmbed': True, 'isSuperfresh': False}], 'scenario': 'List'}\n",
      "rankingResponse : {'mainline': {'items': [{'answerType': 'WebPages', 'resultIndex': 0, 'value': {'id': 'https://api.cognitive.microsoft.com/api/v7/#WebPages.0'}}, {'answerType': 'WebPages', 'resultIndex': 1, 'value': {'id': 'https://api.cognitive.microsoft.com/api/v7/#WebPages.1'}}, {'answerType': 'WebPages', 'resultIndex': 2, 'value': {'id': 'https://api.cognitive.microsoft.com/api/v7/#WebPages.2'}}, {'answerType': 'WebPages', 'resultIndex': 3, 'value': {'id': 'https://api.cognitive.microsoft.com/api/v7/#WebPages.3'}}, {'answerType': 'WebPages', 'resultIndex': 4, 'value': {'id': 'https://api.cognitive.microsoft.com/api/v7/#WebPages.4'}}, {'answerType': 'Videos', 'value': {'id': 'https://api.cognitive.microsoft.com/api/v7/#Videos'}}, {'answerType': 'RelatedSearches', 'value': {'id': 'https://api.cognitive.microsoft.com/api/v7/#RelatedSearches'}}]}}\n"
     ]
    }
   ],
   "source": [
    "res = search(query,offset=0,count=5)\n",
    "res.keys()\n",
    "for k,v in res.items():\n",
    "    print(\"{:15s} : {}\".format(k,v))"
   ]
  },
  {
   "cell_type": "code",
   "execution_count": 8,
   "metadata": {},
   "outputs": [
    {
     "name": "stdout",
     "output_type": "stream",
     "text": [
      "webSearchUrl           : https://www.bing.com/search?q=Microsoft+Cognitive+Services\n",
      "totalEstimatedMatches  : 7460000\n",
      "value                  : [{'id': 'https://api.cognitive.microsoft.com/api/v7/#WebPages.0', 'name': 'Microsoft Cognitive Services', 'url': 'https://www.microsoft.com/cognitive-services', 'isFamilyFriendly': True, 'displayUrl': 'https://www.microsoft.com/cognitive-services', 'snippet': \"Knock down barriers between you and your ideas. Enable natural and contextual interaction with tools that augment users' experiences via the power of machine-based AI. Plug them in and bring your ideas to life.\", 'language': '', 'isNavigational': True}, {'id': 'https://api.cognitive.microsoft.com/api/v7/#WebPages.1', 'name': 'Cognitive Services—APIs for AI Developers | Microsoft Azure', 'url': 'https://azure.microsoft.com/en-us/services/cognitive-services/', 'isFamilyFriendly': True, 'displayUrl': 'https://azure.microsoft.com/en-us/services/cognitive-services', 'snippet': 'Cognitive Services bring AI within reach of every developer—without requiring machine-learning expertise. All it takes is an API call to embed the ability to see, hear, speak, search, understand, and accelerate decision-making into your apps.', 'dateLastCrawled': '2020-05-15T17:47:00.0000000Z', 'language': 'en', 'isNavigational': False}, {'id': 'https://api.cognitive.microsoft.com/api/v7/#WebPages.2', 'name': 'Cognitive Services—APIs for AI Developers | Microsoft Azure', 'url': 'https://azure.microsoft.com/en-in/services/cognitive-services/', 'isFamilyFriendly': True, 'displayUrl': 'https://azure.microsoft.com/en-in/services/cognitive-services', 'snippet': 'Cognitive Services bring AI within reach of every developer—without requiring machine-learning expertise. All it takes is an API call to embed the ability to see, hear, speak, search, understand and accelerate decision-making into your apps. This is a modal window. Beginning of dialog window. Escape will cancel and close the window.', 'dateLastCrawled': '2020-05-14T17:21:00.0000000Z', 'language': 'en', 'isNavigational': False}, {'id': 'https://api.cognitive.microsoft.com/api/v7/#WebPages.3', 'name': 'What are Azure Cognitive Services? - Azure Cognitive ...', 'url': 'https://docs.microsoft.com/en-us/azure/cognitive-services/Welcome', 'isFamilyFriendly': True, 'displayUrl': 'https://docs.microsoft.com/en-us/azure/cognitive-services/Welcome', 'snippet': 'Azure Cognitive Services are APIs, SDKs, and services available to help developers build intelligent applications without having direct AI or data science skills or knowledge. Azure Cognitive Services enable developers to easily add cognitive features into their applications. The goal of Azure Cognitive Services is to help developers create ...', 'dateLastCrawled': '2020-05-15T14:20:00.0000000Z', 'searchTags': [{'name': 'search.ms_docsetname', 'content': '\"azure-documents\"; azure; documents'}, {'name': 'search.ms_product', 'content': '\"Azure\"; azure'}, {'name': 'search.ms_sitename', 'content': '\"Docs\"; docs'}], 'language': 'en', 'isNavigational': False}, {'id': 'https://api.cognitive.microsoft.com/api/v7/#WebPages.4', 'name': 'Cognitive Service Try experience | Microsoft Azure', 'url': 'https://azure.microsoft.com/en-us/try/cognitive-services/', 'isFamilyFriendly': True, 'displayUrl': 'https://azure.microsoft.com/en-us/try/cognitive-services', 'snippet': 'Cognitive Services let you build intelligent apps with powerful algorithms using just a few lines of code. Try the Cognitive Services APIs for free in minutes. Try Cognitive Services for free. For long-term use or an increased quota sign-up for a free Azure account. Explore Cognitive Services: Select your API. Start using the API. Computer Vision.', 'dateLastCrawled': '2020-05-15T12:20:00.0000000Z', 'language': 'en', 'isNavigational': False}]\n"
     ]
    }
   ],
   "source": [
    "  for k,v in res['webPages'].items():\n",
    "        print(\"{:23s}: {}\".format(k,v))"
   ]
  },
  {
   "cell_type": "code",
   "execution_count": 9,
   "metadata": {},
   "outputs": [
    {
     "name": "stdout",
     "output_type": "stream",
     "text": [
      "id               : https://api.cognitive.microsoft.com/api/v7/#WebPages.0\n",
      "name             : Microsoft Cognitive Services\n",
      "url              : https://www.microsoft.com/cognitive-services\n",
      "isFamilyFriendly : True\n",
      "displayUrl       : https://www.microsoft.com/cognitive-services\n",
      "snippet          : Knock down barriers between you and your ideas. Enable natural and contextual interaction with tools that augment users' experiences via the power of machine-based AI. Plug them in and bring your ideas to life.\n",
      "language         : \n",
      "isNavigational   : True\n",
      "==============================\n",
      "id               : https://api.cognitive.microsoft.com/api/v7/#WebPages.1\n",
      "name             : Cognitive Services—APIs for AI Developers | Microsoft Azure\n",
      "url              : https://azure.microsoft.com/en-us/services/cognitive-services/\n",
      "isFamilyFriendly : True\n",
      "displayUrl       : https://azure.microsoft.com/en-us/services/cognitive-services\n",
      "snippet          : Cognitive Services bring AI within reach of every developer—without requiring machine-learning expertise. All it takes is an API call to embed the ability to see, hear, speak, search, understand, and accelerate decision-making into your apps.\n",
      "dateLastCrawled  : 2020-05-15T17:47:00.0000000Z\n",
      "language         : en\n",
      "isNavigational   : False\n",
      "==============================\n",
      "id               : https://api.cognitive.microsoft.com/api/v7/#WebPages.2\n",
      "name             : Cognitive Services—APIs for AI Developers | Microsoft Azure\n",
      "url              : https://azure.microsoft.com/en-in/services/cognitive-services/\n",
      "isFamilyFriendly : True\n",
      "displayUrl       : https://azure.microsoft.com/en-in/services/cognitive-services\n",
      "snippet          : Cognitive Services bring AI within reach of every developer—without requiring machine-learning expertise. All it takes is an API call to embed the ability to see, hear, speak, search, understand and accelerate decision-making into your apps. This is a modal window. Beginning of dialog window. Escape will cancel and close the window.\n",
      "dateLastCrawled  : 2020-05-14T17:21:00.0000000Z\n",
      "language         : en\n",
      "isNavigational   : False\n",
      "==============================\n",
      "id               : https://api.cognitive.microsoft.com/api/v7/#WebPages.3\n",
      "name             : What are Azure Cognitive Services? - Azure Cognitive ...\n",
      "url              : https://docs.microsoft.com/en-us/azure/cognitive-services/Welcome\n",
      "isFamilyFriendly : True\n",
      "displayUrl       : https://docs.microsoft.com/en-us/azure/cognitive-services/Welcome\n",
      "snippet          : Azure Cognitive Services are APIs, SDKs, and services available to help developers build intelligent applications without having direct AI or data science skills or knowledge. Azure Cognitive Services enable developers to easily add cognitive features into their applications. The goal of Azure Cognitive Services is to help developers create ...\n",
      "dateLastCrawled  : 2020-05-15T14:20:00.0000000Z\n",
      "searchTags       : [{'name': 'search.ms_docsetname', 'content': '\"azure-documents\"; azure; documents'}, {'name': 'search.ms_product', 'content': '\"Azure\"; azure'}, {'name': 'search.ms_sitename', 'content': '\"Docs\"; docs'}]\n",
      "language         : en\n",
      "isNavigational   : False\n",
      "==============================\n",
      "id               : https://api.cognitive.microsoft.com/api/v7/#WebPages.4\n",
      "name             : Cognitive Service Try experience | Microsoft Azure\n",
      "url              : https://azure.microsoft.com/en-us/try/cognitive-services/\n",
      "isFamilyFriendly : True\n",
      "displayUrl       : https://azure.microsoft.com/en-us/try/cognitive-services\n",
      "snippet          : Cognitive Services let you build intelligent apps with powerful algorithms using just a few lines of code. Try the Cognitive Services APIs for free in minutes. Try Cognitive Services for free. For long-term use or an increased quota sign-up for a free Azure account. Explore Cognitive Services: Select your API. Start using the API. Computer Vision.\n",
      "dateLastCrawled  : 2020-05-15T12:20:00.0000000Z\n",
      "language         : en\n",
      "isNavigational   : False\n",
      "==============================\n"
     ]
    }
   ],
   "source": [
    "for page in res['webPages']['value']:\n",
    "    for k,v in page.items():\n",
    "        print(\"{:17s}: {}\".format(k,v))\n",
    "    print('='*30)    "
   ]
  },
  {
   "cell_type": "code",
   "execution_count": 10,
   "metadata": {},
   "outputs": [
    {
     "data": {
      "text/plain": [
       "dict_keys(['id', 'readLink', 'webSearchUrl', 'isFamilyFriendly', 'value', 'scenario'])"
      ]
     },
     "execution_count": 10,
     "metadata": {},
     "output_type": "execute_result"
    }
   ],
   "source": [
    "res['videos'].keys()"
   ]
  },
  {
   "cell_type": "code",
   "execution_count": 11,
   "metadata": {},
   "outputs": [
    {
     "name": "stdout",
     "output_type": "stream",
     "text": [
      "id               : https://api.cognitive.microsoft.com/api/v7/#Videos\n",
      "readLink         : https://api.cognitive.microsoft.com/api/v7/videos/search?q=Microsoft+Cognitive+Services\n",
      "webSearchUrl     : https://www.bing.com/videos/search?q=Microsoft+Cognitive+Services\n",
      "isFamilyFriendly : True\n",
      "value            : [{'webSearchUrl': 'https://www.bing.com/videos/search?q=Microsoft%20Cognitive%20Services&view=detail&mid=5EF9FA8FED3B125F5ED75EF9FA8FED3B125F5ED7', 'name': 'Container support in Azure Cognitive Services', 'description': 'Learn how Docker containers can get Cognitive Services closer to your data.', 'thumbnailUrl': 'https://tse3.mm.bing.net/th?id=OVP.zM7qv8d50XJwFs-MSziiCwEsCo&pid=Api', 'datePublished': '2020-04-01T07:00:00.0000000', 'publisher': [{'name': 'Microsoft'}], 'contentUrl': 'https://docs.microsoft.com/en-us/azure/cognitive-services/cognitive-services-container-support', 'hostPageUrl': 'https://docs.microsoft.com/en-us/azure/cognitive-services/cognitive-services-container-support', 'encodingFormat': 'mp4', 'hostPageDisplayUrl': 'https://docs.microsoft.com/en-us/azure/cognitive-services/cognitive-services-container-support', 'width': 640, 'height': 360, 'duration': 'PT2M9S', 'motionThumbnailUrl': 'https://tse3.mm.bing.net/th?id=OM.115fEjvtj_r5Xg_1589277282&pid=Api', 'embedHtml': '<iframe width=\"560\" height=\"315\" src=\"https://www.youtube.com/embed/hdfbn4Q8jbo\" frameborder= \"0\" allowfullscreen></iframe>', 'allowHttpsEmbed': True, 'thumbnail': {'width': 160, 'height': 89}, 'allowMobileEmbed': True, 'isSuperfresh': False}, {'webSearchUrl': 'https://www.bing.com/videos/search?q=Microsoft%20Cognitive%20Services&view=detail&mid=AFB87F3E01DB97C7D6EFAFB87F3E01DB97C7D6EF', 'name': 'Microsoft Cognitive Service : Anomaly Detection', 'description': 'In this short video an introduction to Microsoft Anomaly detection has been presented. in the next one how to use it in Power BI will be explained.', 'thumbnailUrl': 'https://tse2.mm.bing.net/th?id=OVP.DmjkFAU4HwTXY4pDlI1bUQHgFo&pid=Api', 'datePublished': '2019-12-02T22:42:58.0000000', 'publisher': [{'name': 'YouTube'}], 'isAccessibleForFree': True, 'contentUrl': 'https://www.youtube.com/watch?v=7ZOtZDbn6gM', 'hostPageUrl': 'https://www.youtube.com/watch?v=7ZOtZDbn6gM', 'encodingFormat': 'mp4', 'hostPageDisplayUrl': 'https://www.youtube.com/watch?v=7ZOtZDbn6gM', 'width': 1280, 'height': 720, 'duration': 'PT11M44S', 'motionThumbnailUrl': 'https://tse2.mm.bing.net/th?id=OM1.79bHl9sBPn-4rw&pid=Api', 'embedHtml': '<iframe width=\"1280\" height=\"720\" src=\"http://www.youtube.com/embed/7ZOtZDbn6gM?autoplay=1\" frameborder=\"0\" allowfullscreen></iframe>', 'allowHttpsEmbed': True, 'viewCount': 925, 'thumbnail': {'width': 160, 'height': 120}, 'allowMobileEmbed': True, 'isSuperfresh': False}, {'webSearchUrl': 'https://www.bing.com/videos/search?q=Microsoft%20Cognitive%20Services&view=detail&mid=37239BC8208D210CED2837239BC8208D210CED28', 'name': 'Real-time Face Recognition With Microsoft Cognitive Services | Jernej Kavka (JK)', 'description': \"This session is all about Microsoft Face API in practice! || Subscribe for more content from SSW TV || || Press like and leave a comment below to let us know how we're doing || Twitter ↴ https://twitter.com/ssw_tv Facebook ↴ https://www.facebook.com/SSW.page/?fref=ts --- Description --- JK, the man behind www.sswSophie.com, will cover what ...\", 'thumbnailUrl': 'https://tse2.mm.bing.net/th?id=OVP.FeCRLLix9RoNqOLUOL8jAQEsDh&pid=Api', 'datePublished': '2019-01-17T04:21:26.0000000', 'publisher': [{'name': 'YouTube'}], 'isAccessibleForFree': True, 'contentUrl': 'https://www.youtube.com/watch?v=KCSyRO0KotA', 'hostPageUrl': 'https://www.youtube.com/watch?v=KCSyRO0KotA', 'encodingFormat': 'mp4', 'hostPageDisplayUrl': 'https://www.youtube.com/watch?v=KCSyRO0KotA', 'width': 1280, 'height': 720, 'duration': 'PT44M8S', 'motionThumbnailUrl': 'https://tse2.mm.bing.net/th?id=OM.KO0MIY0gyJsjNw_1586897670&pid=Api', 'embedHtml': '<iframe width=\"1280\" height=\"720\" src=\"http://www.youtube.com/embed/KCSyRO0KotA?autoplay=1\" frameborder=\"0\" allowfullscreen></iframe>', 'allowHttpsEmbed': True, 'viewCount': 26721, 'thumbnail': {'width': 160, 'height': 120}, 'allowMobileEmbed': True, 'isSuperfresh': False}, {'webSearchUrl': 'https://www.bing.com/videos/search?q=Microsoft%20Cognitive%20Services&view=detail&mid=78176445D331A44DCFF478176445D331A44DCFF4', 'name': 'Call Centre Analytics using Microsoft Azure Cognitive Services', 'description': \"Meghana Madhusudhan's talk at Metro Toronto .NET User Group meetup event Global AI Bootcamp Toronto on Dec 14, 2019 at Microsoft Canada HQ https://www.meetup.com/metrotorontoug/events/260489986/ Watch all talks at GlobalAIBootcamp 2019 in Toronto here https://www.youtube.com/playlist?list=PLvZNswYZlTAM3IrefyKuY_oyjCY1UOpB7\", 'thumbnailUrl': 'https://tse2.mm.bing.net/th?id=OVP.FqRLirwXHUoElVhW-Ho_ZgHgFo&pid=Api', 'datePublished': '2019-12-23T21:57:28.0000000', 'publisher': [{'name': 'YouTube'}], 'isAccessibleForFree': True, 'contentUrl': 'https://www.youtube.com/watch?v=N25frVe5Gds', 'hostPageUrl': 'https://www.youtube.com/watch?v=N25frVe5Gds', 'encodingFormat': '', 'hostPageDisplayUrl': 'https://www.youtube.com/watch?v=N25frVe5Gds', 'width': 480, 'height': 360, 'duration': 'PT43M33S', 'embedHtml': '<iframe width=\"1280\" height=\"720\" src=\"http://www.youtube.com/embed/N25frVe5Gds?autoplay=1\" frameborder=\"0\" allowfullscreen></iframe>', 'allowHttpsEmbed': True, 'viewCount': 13, 'thumbnail': {'width': 160, 'height': 120}, 'allowMobileEmbed': True, 'isSuperfresh': False}, {'webSearchUrl': 'https://www.bing.com/videos/search?q=Microsoft%20Cognitive%20Services&view=detail&mid=DE95BF72DFF1C30D2332DE95BF72DFF1C30D2332', 'name': \"Learn what's new in Azure Cognitive Services | Azure Friday\", 'description': \"Christina Lee joins Scott Hanselman to show what's new in Azure Cognitive Services. Cognitive Services bring AI within reach of every developer—without requiring machine-learning expertise. All it takes is an API call to embed the ability to see, hear, speak, search, understand, and accelerate decision-making into your apps. 2:00 - Demo Azure ...\", 'thumbnailUrl': 'https://tse4.mm.bing.net/th?id=OVP.A4gX6fMwRIIodlrg426nqgEsDh&pid=Api', 'datePublished': '2019-11-15T17:30:01.0000000', 'publisher': [{'name': 'YouTube'}], 'isAccessibleForFree': True, 'contentUrl': 'https://www.youtube.com/watch?v=JvaYbQab3wU', 'hostPageUrl': 'https://www.youtube.com/watch?v=JvaYbQab3wU', 'encodingFormat': 'mp4', 'hostPageDisplayUrl': 'https://www.youtube.com/watch?v=JvaYbQab3wU', 'width': 1280, 'height': 720, 'duration': 'PT9M13S', 'motionThumbnailUrl': 'https://tse4.mm.bing.net/th?id=OM.MiMNw_Hfcr-V3g_1585256688&pid=Api', 'embedHtml': '<iframe width=\"1280\" height=\"720\" src=\"http://www.youtube.com/embed/JvaYbQab3wU?autoplay=1\" frameborder=\"0\" allowfullscreen></iframe>', 'allowHttpsEmbed': True, 'viewCount': 5657, 'thumbnail': {'width': 160, 'height': 120}, 'allowMobileEmbed': True, 'isSuperfresh': False}, {'webSearchUrl': 'https://www.bing.com/videos/search?q=Microsoft%20Cognitive%20Services&view=detail&mid=CFDF20BAA2777F7C5EF3CFDF20BAA2777F7C5EF3', 'name': 'Microsoft Azure Cognitive Services: Bing Image Search API Course Preview', 'description': 'View full course here: https://www.pluralsight.com/courses/microsoft-azure-cognitive-services-bing-image-search-api Join Pluralsight author Eduardo Freitas as he walks you through a preview of his \"Microsoft Azure Cognitive Services: Bing Image Search API\" course found only on Pluralsight.com. Build your technology skills with Eduardo’s help ...', 'thumbnailUrl': 'https://tse3.mm.bing.net/th?id=OVP.lgNxLZWVrAM4W7Mr9b7fwgEsDh&pid=Api', 'datePublished': '2019-12-03T21:09:25.0000000', 'publisher': [{'name': 'YouTube'}], 'isAccessibleForFree': True, 'contentUrl': 'https://www.youtube.com/watch?v=lGdJCZ7skok', 'hostPageUrl': 'https://www.youtube.com/watch?v=lGdJCZ7skok', 'encodingFormat': 'mp4', 'hostPageDisplayUrl': 'https://www.youtube.com/watch?v=lGdJCZ7skok', 'width': 1280, 'height': 720, 'duration': 'PT1M40S', 'motionThumbnailUrl': 'https://tse3.mm.bing.net/th?id=OM.8158f3eiuiDfzw_1582410040&pid=Api', 'embedHtml': '<iframe width=\"1280\" height=\"720\" src=\"http://www.youtube.com/embed/lGdJCZ7skok?autoplay=1\" frameborder=\"0\" allowfullscreen></iframe>', 'allowHttpsEmbed': True, 'viewCount': 110, 'thumbnail': {'width': 160, 'height': 120}, 'allowMobileEmbed': True, 'isSuperfresh': False}, {'webSearchUrl': 'https://www.bing.com/videos/search?q=Microsoft%20Cognitive%20Services&view=detail&mid=25F969D3C8686562CADF25F969D3C8686562CADF', 'name': 'Microsoft Azure Cognitive Services: Anomaly Detector Course Preview', 'description': 'Stay home, skill up! Get FREE access to 7,000+ Pluralsight courses during the month of April!: https://www.pluralsight.com/offer/2020/free-april-month Times are tough right now. To help you be productive, make progress toward your goals or build skills toward a new career, we’re making all 7,000+ expert-led video courses completely free for ...', 'thumbnailUrl': 'https://tse2.mm.bing.net/th?id=OVP.mAZQkvEb-hGQflpkfZmDkQHgFo&pid=Api', 'datePublished': '2020-03-19T21:07:02.0000000', 'publisher': [{'name': 'YouTube'}], 'isAccessibleForFree': True, 'contentUrl': 'https://www.youtube.com/watch?v=97wymyQ7e9Y', 'hostPageUrl': 'https://www.youtube.com/watch?v=97wymyQ7e9Y', 'encodingFormat': '', 'hostPageDisplayUrl': 'https://www.youtube.com/watch?v=97wymyQ7e9Y', 'width': 1280, 'height': 720, 'duration': 'PT1M14S', 'embedHtml': '<iframe width=\"1280\" height=\"720\" src=\"http://www.youtube.com/embed/97wymyQ7e9Y?autoplay=1\" frameborder=\"0\" allowfullscreen></iframe>', 'allowHttpsEmbed': True, 'viewCount': 61, 'thumbnail': {'width': 160, 'height': 120}, 'allowMobileEmbed': True, 'isSuperfresh': False}, {'webSearchUrl': 'https://www.bing.com/videos/search?q=Microsoft%20Cognitive%20Services&view=detail&mid=230D105355C2C370320D230D105355C2C370320D', 'name': 'Azure Skills: Microsoft Azure Cognitive Services: Bing Spell Check API Course Preview', 'description': 'View full course here: https://www.pluralsight.com/courses/microsoft-azure-cognitive-services-bing-spell-check-api Join Pluralsight author James Millar as he walks you through a preview of his \"Microsoft Azure Cognitive Services: Bing Spell Check API\" course found only on Pluralsight.com. Build your technology skills with James’s help by ...', 'thumbnailUrl': 'https://tse2.mm.bing.net/th?id=OVP.kXOl6K2qgcbY4_VGSSRfKgEsDh&pid=Api', 'datePublished': '2019-08-20T19:52:04.0000000', 'publisher': [{'name': 'YouTube'}], 'isAccessibleForFree': True, 'contentUrl': 'https://www.youtube.com/watch?v=1fK_muXBU6k', 'hostPageUrl': 'https://www.youtube.com/watch?v=1fK_muXBU6k', 'encodingFormat': 'mp4', 'hostPageDisplayUrl': 'https://www.youtube.com/watch?v=1fK_muXBU6k', 'width': 1280, 'height': 720, 'duration': 'PT1M44S', 'motionThumbnailUrl': 'https://tse2.mm.bing.net/th?id=OM.DTJww8JVUxANIw_1587541466&pid=Api', 'embedHtml': '<iframe width=\"1280\" height=\"720\" src=\"http://www.youtube.com/embed/1fK_muXBU6k?autoplay=1\" frameborder=\"0\" allowfullscreen></iframe>', 'allowHttpsEmbed': True, 'viewCount': 212, 'thumbnail': {'width': 160, 'height': 120}, 'allowMobileEmbed': True, 'isSuperfresh': False}, {'webSearchUrl': 'https://www.bing.com/videos/search?q=Microsoft%20Cognitive%20Services&view=detail&mid=FDF2703CC2C76C8F742DFDF2703CC2C76C8F742D', 'name': 'Microsoft Bing Skills: Microsoft Cognitive Services: Bing News Search Course Preview', 'description': 'View full course here: https://www.pluralsight.com/courses/microsoft-cognitive-services-bing-news-search Join Pluralsight author Matthew Soucoup as he walks you through a preview of his \"Microsoft Cognitive Services: Bing News Search\" course found only on Pluralsight.com. Build your technology skills with Matthew’s help by learning about the ...', 'thumbnailUrl': 'https://tse4.mm.bing.net/th?id=OVP._YUVkDq3_jRfOEX8mUqzfgEsDh&pid=Api', 'datePublished': '2019-10-29T20:52:12.0000000', 'publisher': [{'name': 'YouTube'}], 'isAccessibleForFree': True, 'contentUrl': 'https://www.youtube.com/watch?v=quIXoS63H3M', 'hostPageUrl': 'https://www.youtube.com/watch?v=quIXoS63H3M', 'encodingFormat': 'mp4', 'hostPageDisplayUrl': 'https://www.youtube.com/watch?v=quIXoS63H3M', 'width': 1280, 'height': 720, 'duration': 'PT1M52S', 'motionThumbnailUrl': 'https://tse4.mm.bing.net/th?id=OM.LXSPbMfCPHDy_Q_1585235612&pid=Api', 'embedHtml': '<iframe width=\"1280\" height=\"720\" src=\"http://www.youtube.com/embed/quIXoS63H3M?autoplay=1\" frameborder=\"0\" allowfullscreen></iframe>', 'allowHttpsEmbed': True, 'viewCount': 60, 'thumbnail': {'width': 160, 'height': 120}, 'allowMobileEmbed': True, 'isSuperfresh': False}, {'webSearchUrl': 'https://www.bing.com/videos/search?q=Microsoft%20Cognitive%20Services&view=detail&mid=6B78742D56D1FCC6694B6B78742D56D1FCC6694B', 'name': 'Microsoft AI - Cognitive Services: Seeing AI demo', 'description': \"Intimidated by AI? Don't be since Microsoft makes it easy to add AI with API calls. Seeing AI App https://www.microsoft.com/en-us/seeing-ai Microsoft Cognitive Services Overview https://azure.microsoft.com/en-us/services/cognitive-services/\", 'thumbnailUrl': 'https://tse4.mm.bing.net/th?id=OVP.ZlWVxJ9gyoMjyJ9dWXMWowEsDh&pid=Api', 'datePublished': '2018-07-19T22:16:05.0000000', 'publisher': [{'name': 'YouTube'}], 'isAccessibleForFree': True, 'contentUrl': 'https://www.youtube.com/watch?v=Bs_wieoxGoA', 'hostPageUrl': 'https://www.youtube.com/watch?v=Bs_wieoxGoA', 'encodingFormat': 'mp4', 'hostPageDisplayUrl': 'https://www.youtube.com/watch?v=Bs_wieoxGoA', 'width': 1280, 'height': 720, 'duration': 'PT4M45S', 'motionThumbnailUrl': 'https://tse4.mm.bing.net/th?id=OM1.S2nG_NFWLXR4aw_1584250855&pid=Api', 'embedHtml': '<iframe width=\"1280\" height=\"720\" src=\"http://www.youtube.com/embed/Bs_wieoxGoA?autoplay=1\" frameborder=\"0\" allowfullscreen></iframe>', 'allowHttpsEmbed': True, 'viewCount': 3660, 'thumbnail': {'width': 160, 'height': 120}, 'allowMobileEmbed': True, 'isSuperfresh': False}]\n",
      "scenario         : List\n"
     ]
    }
   ],
   "source": [
    "for k,v in res['videos'].items():\n",
    "    print(\"{:17s}: {}\".format(k,v) )"
   ]
  },
  {
   "cell_type": "code",
   "execution_count": 12,
   "metadata": {},
   "outputs": [
    {
     "name": "stdout",
     "output_type": "stream",
     "text": [
      "webSearchUrl        : https://www.bing.com/videos/search?q=Microsoft%20Cognitive%20Services&view=detail&mid=5EF9FA8FED3B125F5ED75EF9FA8FED3B125F5ED7\n",
      "name                : Container support in Azure Cognitive Services\n",
      "description         : Learn how Docker containers can get Cognitive Services closer to your data.\n",
      "thumbnailUrl        : https://tse3.mm.bing.net/th?id=OVP.zM7qv8d50XJwFs-MSziiCwEsCo&pid=Api\n",
      "datePublished       : 2020-04-01T07:00:00.0000000\n",
      "publisher           : [{'name': 'Microsoft'}]\n",
      "contentUrl          : https://docs.microsoft.com/en-us/azure/cognitive-services/cognitive-services-container-support\n",
      "hostPageUrl         : https://docs.microsoft.com/en-us/azure/cognitive-services/cognitive-services-container-support\n",
      "encodingFormat      : mp4\n",
      "hostPageDisplayUrl  : https://docs.microsoft.com/en-us/azure/cognitive-services/cognitive-services-container-support\n",
      "width               : 640\n",
      "height              : 360\n",
      "duration            : PT2M9S\n",
      "motionThumbnailUrl  : https://tse3.mm.bing.net/th?id=OM.115fEjvtj_r5Xg_1589277282&pid=Api\n",
      "embedHtml           : <iframe width=\"560\" height=\"315\" src=\"https://www.youtube.com/embed/hdfbn4Q8jbo\" frameborder= \"0\" allowfullscreen></iframe>\n",
      "allowHttpsEmbed     : True\n",
      "thumbnail           : {'width': 160, 'height': 89}\n",
      "allowMobileEmbed    : True\n",
      "isSuperfresh        : False\n",
      "==================================================================================================== \n",
      "\n",
      "webSearchUrl        : https://www.bing.com/videos/search?q=Microsoft%20Cognitive%20Services&view=detail&mid=AFB87F3E01DB97C7D6EFAFB87F3E01DB97C7D6EF\n",
      "name                : Microsoft Cognitive Service : Anomaly Detection\n",
      "description         : In this short video an introduction to Microsoft Anomaly detection has been presented. in the next one how to use it in Power BI will be explained.\n",
      "thumbnailUrl        : https://tse2.mm.bing.net/th?id=OVP.DmjkFAU4HwTXY4pDlI1bUQHgFo&pid=Api\n",
      "datePublished       : 2019-12-02T22:42:58.0000000\n",
      "publisher           : [{'name': 'YouTube'}]\n",
      "isAccessibleForFree : True\n",
      "contentUrl          : https://www.youtube.com/watch?v=7ZOtZDbn6gM\n",
      "hostPageUrl         : https://www.youtube.com/watch?v=7ZOtZDbn6gM\n",
      "encodingFormat      : mp4\n",
      "hostPageDisplayUrl  : https://www.youtube.com/watch?v=7ZOtZDbn6gM\n",
      "width               : 1280\n",
      "height              : 720\n",
      "duration            : PT11M44S\n",
      "motionThumbnailUrl  : https://tse2.mm.bing.net/th?id=OM1.79bHl9sBPn-4rw&pid=Api\n",
      "embedHtml           : <iframe width=\"1280\" height=\"720\" src=\"http://www.youtube.com/embed/7ZOtZDbn6gM?autoplay=1\" frameborder=\"0\" allowfullscreen></iframe>\n",
      "allowHttpsEmbed     : True\n",
      "viewCount           : 925\n",
      "thumbnail           : {'width': 160, 'height': 120}\n",
      "allowMobileEmbed    : True\n",
      "isSuperfresh        : False\n",
      "==================================================================================================== \n",
      "\n",
      "webSearchUrl        : https://www.bing.com/videos/search?q=Microsoft%20Cognitive%20Services&view=detail&mid=37239BC8208D210CED2837239BC8208D210CED28\n",
      "name                : Real-time Face Recognition With Microsoft Cognitive Services | Jernej Kavka (JK)\n",
      "description         : This session is all about Microsoft Face API in practice! || Subscribe for more content from SSW TV || || Press like and leave a comment below to let us know how we're doing || Twitter ↴ https://twitter.com/ssw_tv Facebook ↴ https://www.facebook.com/SSW.page/?fref=ts --- Description --- JK, the man behind www.sswSophie.com, will cover what ...\n",
      "thumbnailUrl        : https://tse2.mm.bing.net/th?id=OVP.FeCRLLix9RoNqOLUOL8jAQEsDh&pid=Api\n",
      "datePublished       : 2019-01-17T04:21:26.0000000\n",
      "publisher           : [{'name': 'YouTube'}]\n",
      "isAccessibleForFree : True\n",
      "contentUrl          : https://www.youtube.com/watch?v=KCSyRO0KotA\n",
      "hostPageUrl         : https://www.youtube.com/watch?v=KCSyRO0KotA\n",
      "encodingFormat      : mp4\n",
      "hostPageDisplayUrl  : https://www.youtube.com/watch?v=KCSyRO0KotA\n",
      "width               : 1280\n",
      "height              : 720\n",
      "duration            : PT44M8S\n",
      "motionThumbnailUrl  : https://tse2.mm.bing.net/th?id=OM.KO0MIY0gyJsjNw_1586897670&pid=Api\n",
      "embedHtml           : <iframe width=\"1280\" height=\"720\" src=\"http://www.youtube.com/embed/KCSyRO0KotA?autoplay=1\" frameborder=\"0\" allowfullscreen></iframe>\n",
      "allowHttpsEmbed     : True\n",
      "viewCount           : 26721\n",
      "thumbnail           : {'width': 160, 'height': 120}\n",
      "allowMobileEmbed    : True\n",
      "isSuperfresh        : False\n",
      "==================================================================================================== \n",
      "\n",
      "webSearchUrl        : https://www.bing.com/videos/search?q=Microsoft%20Cognitive%20Services&view=detail&mid=78176445D331A44DCFF478176445D331A44DCFF4\n",
      "name                : Call Centre Analytics using Microsoft Azure Cognitive Services\n",
      "description         : Meghana Madhusudhan's talk at Metro Toronto .NET User Group meetup event Global AI Bootcamp Toronto on Dec 14, 2019 at Microsoft Canada HQ https://www.meetup.com/metrotorontoug/events/260489986/ Watch all talks at GlobalAIBootcamp 2019 in Toronto here https://www.youtube.com/playlist?list=PLvZNswYZlTAM3IrefyKuY_oyjCY1UOpB7\n",
      "thumbnailUrl        : https://tse2.mm.bing.net/th?id=OVP.FqRLirwXHUoElVhW-Ho_ZgHgFo&pid=Api\n",
      "datePublished       : 2019-12-23T21:57:28.0000000\n",
      "publisher           : [{'name': 'YouTube'}]\n",
      "isAccessibleForFree : True\n",
      "contentUrl          : https://www.youtube.com/watch?v=N25frVe5Gds\n",
      "hostPageUrl         : https://www.youtube.com/watch?v=N25frVe5Gds\n",
      "encodingFormat      : \n",
      "hostPageDisplayUrl  : https://www.youtube.com/watch?v=N25frVe5Gds\n",
      "width               : 480\n",
      "height              : 360\n",
      "duration            : PT43M33S\n",
      "embedHtml           : <iframe width=\"1280\" height=\"720\" src=\"http://www.youtube.com/embed/N25frVe5Gds?autoplay=1\" frameborder=\"0\" allowfullscreen></iframe>\n",
      "allowHttpsEmbed     : True\n",
      "viewCount           : 13\n",
      "thumbnail           : {'width': 160, 'height': 120}\n",
      "allowMobileEmbed    : True\n",
      "isSuperfresh        : False\n",
      "==================================================================================================== \n",
      "\n",
      "webSearchUrl        : https://www.bing.com/videos/search?q=Microsoft%20Cognitive%20Services&view=detail&mid=DE95BF72DFF1C30D2332DE95BF72DFF1C30D2332\n",
      "name                : Learn what's new in Azure Cognitive Services | Azure Friday\n",
      "description         : Christina Lee joins Scott Hanselman to show what's new in Azure Cognitive Services. Cognitive Services bring AI within reach of every developer—without requiring machine-learning expertise. All it takes is an API call to embed the ability to see, hear, speak, search, understand, and accelerate decision-making into your apps. 2:00 - Demo Azure ...\n",
      "thumbnailUrl        : https://tse4.mm.bing.net/th?id=OVP.A4gX6fMwRIIodlrg426nqgEsDh&pid=Api\n",
      "datePublished       : 2019-11-15T17:30:01.0000000\n",
      "publisher           : [{'name': 'YouTube'}]\n",
      "isAccessibleForFree : True\n",
      "contentUrl          : https://www.youtube.com/watch?v=JvaYbQab3wU\n",
      "hostPageUrl         : https://www.youtube.com/watch?v=JvaYbQab3wU\n",
      "encodingFormat      : mp4\n",
      "hostPageDisplayUrl  : https://www.youtube.com/watch?v=JvaYbQab3wU\n",
      "width               : 1280\n",
      "height              : 720\n",
      "duration            : PT9M13S\n",
      "motionThumbnailUrl  : https://tse4.mm.bing.net/th?id=OM.MiMNw_Hfcr-V3g_1585256688&pid=Api\n",
      "embedHtml           : <iframe width=\"1280\" height=\"720\" src=\"http://www.youtube.com/embed/JvaYbQab3wU?autoplay=1\" frameborder=\"0\" allowfullscreen></iframe>\n",
      "allowHttpsEmbed     : True\n",
      "viewCount           : 5657\n",
      "thumbnail           : {'width': 160, 'height': 120}\n",
      "allowMobileEmbed    : True\n",
      "isSuperfresh        : False\n",
      "==================================================================================================== \n",
      "\n",
      "webSearchUrl        : https://www.bing.com/videos/search?q=Microsoft%20Cognitive%20Services&view=detail&mid=CFDF20BAA2777F7C5EF3CFDF20BAA2777F7C5EF3\n",
      "name                : Microsoft Azure Cognitive Services: Bing Image Search API Course Preview\n",
      "description         : View full course here: https://www.pluralsight.com/courses/microsoft-azure-cognitive-services-bing-image-search-api Join Pluralsight author Eduardo Freitas as he walks you through a preview of his \"Microsoft Azure Cognitive Services: Bing Image Search API\" course found only on Pluralsight.com. Build your technology skills with Eduardo’s help ...\n",
      "thumbnailUrl        : https://tse3.mm.bing.net/th?id=OVP.lgNxLZWVrAM4W7Mr9b7fwgEsDh&pid=Api\n",
      "datePublished       : 2019-12-03T21:09:25.0000000\n",
      "publisher           : [{'name': 'YouTube'}]\n",
      "isAccessibleForFree : True\n",
      "contentUrl          : https://www.youtube.com/watch?v=lGdJCZ7skok\n",
      "hostPageUrl         : https://www.youtube.com/watch?v=lGdJCZ7skok\n",
      "encodingFormat      : mp4\n",
      "hostPageDisplayUrl  : https://www.youtube.com/watch?v=lGdJCZ7skok\n",
      "width               : 1280\n",
      "height              : 720\n",
      "duration            : PT1M40S\n",
      "motionThumbnailUrl  : https://tse3.mm.bing.net/th?id=OM.8158f3eiuiDfzw_1582410040&pid=Api\n",
      "embedHtml           : <iframe width=\"1280\" height=\"720\" src=\"http://www.youtube.com/embed/lGdJCZ7skok?autoplay=1\" frameborder=\"0\" allowfullscreen></iframe>\n",
      "allowHttpsEmbed     : True\n",
      "viewCount           : 110\n",
      "thumbnail           : {'width': 160, 'height': 120}\n",
      "allowMobileEmbed    : True\n",
      "isSuperfresh        : False\n",
      "==================================================================================================== \n",
      "\n",
      "webSearchUrl        : https://www.bing.com/videos/search?q=Microsoft%20Cognitive%20Services&view=detail&mid=25F969D3C8686562CADF25F969D3C8686562CADF\n",
      "name                : Microsoft Azure Cognitive Services: Anomaly Detector Course Preview\n",
      "description         : Stay home, skill up! Get FREE access to 7,000+ Pluralsight courses during the month of April!: https://www.pluralsight.com/offer/2020/free-april-month Times are tough right now. To help you be productive, make progress toward your goals or build skills toward a new career, we’re making all 7,000+ expert-led video courses completely free for ...\n",
      "thumbnailUrl        : https://tse2.mm.bing.net/th?id=OVP.mAZQkvEb-hGQflpkfZmDkQHgFo&pid=Api\n",
      "datePublished       : 2020-03-19T21:07:02.0000000\n",
      "publisher           : [{'name': 'YouTube'}]\n",
      "isAccessibleForFree : True\n",
      "contentUrl          : https://www.youtube.com/watch?v=97wymyQ7e9Y\n",
      "hostPageUrl         : https://www.youtube.com/watch?v=97wymyQ7e9Y\n",
      "encodingFormat      : \n",
      "hostPageDisplayUrl  : https://www.youtube.com/watch?v=97wymyQ7e9Y\n",
      "width               : 1280\n",
      "height              : 720\n",
      "duration            : PT1M14S\n",
      "embedHtml           : <iframe width=\"1280\" height=\"720\" src=\"http://www.youtube.com/embed/97wymyQ7e9Y?autoplay=1\" frameborder=\"0\" allowfullscreen></iframe>\n",
      "allowHttpsEmbed     : True\n",
      "viewCount           : 61\n",
      "thumbnail           : {'width': 160, 'height': 120}\n",
      "allowMobileEmbed    : True\n",
      "isSuperfresh        : False\n",
      "==================================================================================================== \n",
      "\n",
      "webSearchUrl        : https://www.bing.com/videos/search?q=Microsoft%20Cognitive%20Services&view=detail&mid=230D105355C2C370320D230D105355C2C370320D\n",
      "name                : Azure Skills: Microsoft Azure Cognitive Services: Bing Spell Check API Course Preview\n",
      "description         : View full course here: https://www.pluralsight.com/courses/microsoft-azure-cognitive-services-bing-spell-check-api Join Pluralsight author James Millar as he walks you through a preview of his \"Microsoft Azure Cognitive Services: Bing Spell Check API\" course found only on Pluralsight.com. Build your technology skills with James’s help by ...\n",
      "thumbnailUrl        : https://tse2.mm.bing.net/th?id=OVP.kXOl6K2qgcbY4_VGSSRfKgEsDh&pid=Api\n",
      "datePublished       : 2019-08-20T19:52:04.0000000\n",
      "publisher           : [{'name': 'YouTube'}]\n",
      "isAccessibleForFree : True\n",
      "contentUrl          : https://www.youtube.com/watch?v=1fK_muXBU6k\n",
      "hostPageUrl         : https://www.youtube.com/watch?v=1fK_muXBU6k\n",
      "encodingFormat      : mp4\n",
      "hostPageDisplayUrl  : https://www.youtube.com/watch?v=1fK_muXBU6k\n",
      "width               : 1280\n",
      "height              : 720\n",
      "duration            : PT1M44S\n",
      "motionThumbnailUrl  : https://tse2.mm.bing.net/th?id=OM.DTJww8JVUxANIw_1587541466&pid=Api\n",
      "embedHtml           : <iframe width=\"1280\" height=\"720\" src=\"http://www.youtube.com/embed/1fK_muXBU6k?autoplay=1\" frameborder=\"0\" allowfullscreen></iframe>\n",
      "allowHttpsEmbed     : True\n",
      "viewCount           : 212\n",
      "thumbnail           : {'width': 160, 'height': 120}\n",
      "allowMobileEmbed    : True\n",
      "isSuperfresh        : False\n",
      "==================================================================================================== \n",
      "\n",
      "webSearchUrl        : https://www.bing.com/videos/search?q=Microsoft%20Cognitive%20Services&view=detail&mid=FDF2703CC2C76C8F742DFDF2703CC2C76C8F742D\n",
      "name                : Microsoft Bing Skills: Microsoft Cognitive Services: Bing News Search Course Preview\n",
      "description         : View full course here: https://www.pluralsight.com/courses/microsoft-cognitive-services-bing-news-search Join Pluralsight author Matthew Soucoup as he walks you through a preview of his \"Microsoft Cognitive Services: Bing News Search\" course found only on Pluralsight.com. Build your technology skills with Matthew’s help by learning about the ...\n",
      "thumbnailUrl        : https://tse4.mm.bing.net/th?id=OVP._YUVkDq3_jRfOEX8mUqzfgEsDh&pid=Api\n",
      "datePublished       : 2019-10-29T20:52:12.0000000\n",
      "publisher           : [{'name': 'YouTube'}]\n",
      "isAccessibleForFree : True\n",
      "contentUrl          : https://www.youtube.com/watch?v=quIXoS63H3M\n",
      "hostPageUrl         : https://www.youtube.com/watch?v=quIXoS63H3M\n",
      "encodingFormat      : mp4\n",
      "hostPageDisplayUrl  : https://www.youtube.com/watch?v=quIXoS63H3M\n",
      "width               : 1280\n",
      "height              : 720\n",
      "duration            : PT1M52S\n",
      "motionThumbnailUrl  : https://tse4.mm.bing.net/th?id=OM.LXSPbMfCPHDy_Q_1585235612&pid=Api\n",
      "embedHtml           : <iframe width=\"1280\" height=\"720\" src=\"http://www.youtube.com/embed/quIXoS63H3M?autoplay=1\" frameborder=\"0\" allowfullscreen></iframe>\n",
      "allowHttpsEmbed     : True\n",
      "viewCount           : 60\n",
      "thumbnail           : {'width': 160, 'height': 120}\n",
      "allowMobileEmbed    : True\n",
      "isSuperfresh        : False\n",
      "==================================================================================================== \n",
      "\n",
      "webSearchUrl        : https://www.bing.com/videos/search?q=Microsoft%20Cognitive%20Services&view=detail&mid=6B78742D56D1FCC6694B6B78742D56D1FCC6694B\n",
      "name                : Microsoft AI - Cognitive Services: Seeing AI demo\n",
      "description         : Intimidated by AI? Don't be since Microsoft makes it easy to add AI with API calls. Seeing AI App https://www.microsoft.com/en-us/seeing-ai Microsoft Cognitive Services Overview https://azure.microsoft.com/en-us/services/cognitive-services/\n",
      "thumbnailUrl        : https://tse4.mm.bing.net/th?id=OVP.ZlWVxJ9gyoMjyJ9dWXMWowEsDh&pid=Api\n",
      "datePublished       : 2018-07-19T22:16:05.0000000\n",
      "publisher           : [{'name': 'YouTube'}]\n",
      "isAccessibleForFree : True\n",
      "contentUrl          : https://www.youtube.com/watch?v=Bs_wieoxGoA\n",
      "hostPageUrl         : https://www.youtube.com/watch?v=Bs_wieoxGoA\n",
      "encodingFormat      : mp4\n",
      "hostPageDisplayUrl  : https://www.youtube.com/watch?v=Bs_wieoxGoA\n",
      "width               : 1280\n",
      "height              : 720\n",
      "duration            : PT4M45S\n",
      "motionThumbnailUrl  : https://tse4.mm.bing.net/th?id=OM1.S2nG_NFWLXR4aw_1584250855&pid=Api\n",
      "embedHtml           : <iframe width=\"1280\" height=\"720\" src=\"http://www.youtube.com/embed/Bs_wieoxGoA?autoplay=1\" frameborder=\"0\" allowfullscreen></iframe>\n",
      "allowHttpsEmbed     : True\n",
      "viewCount           : 3660\n",
      "thumbnail           : {'width': 160, 'height': 120}\n",
      "allowMobileEmbed    : True\n",
      "isSuperfresh        : False\n",
      "==================================================================================================== \n",
      "\n"
     ]
    }
   ],
   "source": [
    "for video in res['videos']['value']:\n",
    "    for k,v in video.items():\n",
    "        print(\"{:20s}: {}\".format(k,v))\n",
    "    print('='*100,'\\n')    "
   ]
  },
  {
   "cell_type": "code",
   "execution_count": null,
   "metadata": {},
   "outputs": [],
   "source": [
    " "
   ]
  },
  {
   "cell_type": "code",
   "execution_count": null,
   "metadata": {},
   "outputs": [],
   "source": []
  },
  {
   "cell_type": "code",
   "execution_count": null,
   "metadata": {},
   "outputs": [],
   "source": []
  }
 ],
 "metadata": {
  "kernelspec": {
   "display_name": "Python 3",
   "language": "python",
   "name": "python3"
  },
  "language_info": {
   "codemirror_mode": {
    "name": "ipython",
    "version": 3
   },
   "file_extension": ".py",
   "mimetype": "text/x-python",
   "name": "python",
   "nbconvert_exporter": "python",
   "pygments_lexer": "ipython3",
   "version": "3.6.8"
  }
 },
 "nbformat": 4,
 "nbformat_minor": 2
}
